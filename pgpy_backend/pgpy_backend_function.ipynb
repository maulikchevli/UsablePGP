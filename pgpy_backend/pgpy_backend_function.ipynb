{
 "cells": [
  {
   "cell_type": "code",
   "execution_count": 31,
   "metadata": {},
   "outputs": [],
   "source": [
    "from pgpy.constants import PubKeyAlgorithm, KeyFlags, HashAlgorithm, SymmetricKeyAlgorithm, CompressionAlgorithm\n",
    "import pgpy\n",
    "import os\n",
    "import glob\n",
    "from secrets import token_hex"
   ]
  },
  {
   "cell_type": "code",
   "execution_count": 32,
   "metadata": {},
   "outputs": [],
   "source": [
    "def key_generation(user_name,passphrase,salt):\n",
    "    key = pgpy.PGPKey.new(PubKeyAlgorithm.RSAEncryptOrSign, 2048)\n",
    "    uid = pgpy.PGPUID.new(user_name)\n",
    "\n",
    "    key.add_uid(uid, usage={KeyFlags.Sign, KeyFlags.EncryptCommunications, KeyFlags.EncryptStorage},\n",
    "            hashes=[HashAlgorithm.SHA256, HashAlgorithm.SHA384, HashAlgorithm.SHA512, HashAlgorithm.SHA224],\n",
    "            ciphers=[SymmetricKeyAlgorithm.AES256, SymmetricKeyAlgorithm.AES192, SymmetricKeyAlgorithm.AES128],\n",
    "            compression=[CompressionAlgorithm.ZLIB, CompressionAlgorithm.BZ2, CompressionAlgorithm.ZIP, CompressionAlgorithm.Uncompressed])\n",
    "    key.protect(passphrase+salt, SymmetricKeyAlgorithm.AES256, HashAlgorithm.SHA256)\n",
    "    return key"
   ]
  },
  {
   "cell_type": "code",
   "execution_count": 33,
   "metadata": {},
   "outputs": [],
   "source": [
    "# message is in string given by User\n",
    "# pub_key is fetched from Database i.e Receivers public Key\n",
    "def encryption(pub_key,message):\n",
    "    pub_key_enc_pgpy, _ = pgpy.PGPKey.from_blob(pub_key)\n",
    "    text_message = pgpy.PGPMessage.new(message)\n",
    "    encrypted_message = pub_key_enc_pgpy.encrypt(text_message)\n",
    "    return encrypted_message"
   ]
  },
  {
   "cell_type": "code",
   "execution_count": 34,
   "metadata": {},
   "outputs": [],
   "source": [
    "# sec_key is Private key stored on local device\n",
    "# enc_message is encrypted message\n",
    "def decryption(sec_key,enc_message,passphrase,salt):\n",
    "    temp_pgpy = pgpy.PGPKey()\n",
    "    temp_pgpy.parse(sec_key)\n",
    "    try:\n",
    "        with temp_pgpy.unlock(passphrase+salt):\n",
    "            decrypted_message = temp_pgpy.decrypt(enc_message)\n",
    "            return decrypted_message.message\n",
    "    except:\n",
    "        print(\"Wrong passphrase\")"
   ]
  },
  {
   "cell_type": "code",
   "execution_count": 35,
   "metadata": {},
   "outputs": [],
   "source": [
    "# sec_key is key stored at local machine i.e private key\n",
    "# message is string\n",
    "def sign(sec_key,message,passphrase,salt):\n",
    "    temp_pgpy = pgpy.PGPKey()\n",
    "    temp_pgpy.parse(sec_key)\n",
    "    try:\n",
    "        with temp_pgpy.unlock(passphrase+salt):\n",
    "            message = pgpy.PGPMessage.new(message)\n",
    "            signature = temp_pgpy.sign(message)\n",
    "            return signature\n",
    "    except:\n",
    "        print(\"Wrong passphrase\")"
   ]
  },
  {
   "cell_type": "code",
   "execution_count": 36,
   "metadata": {},
   "outputs": [],
   "source": [
    "# pub_key is key fetched from DB\n",
    "# message is signed string message\n",
    "def verify(pub_key,message,signature):\n",
    "    pub_key, _ = pgpy.PGPKey.from_blob(pub_key)\n",
    "    temp_pgpy = pgpy.PGPSignature()\n",
    "    temp_pgpy.parse(signature)\n",
    "    if pub_key.verify(message,temp_pgpy):\n",
    "        return True\n",
    "    else:\n",
    "        return False\n"
   ]
  },
  {
   "cell_type": "code",
   "execution_count": 37,
   "metadata": {},
   "outputs": [],
   "source": [
    "def get_salt():\n",
    "    return str(token_hex(16))"
   ]
  },
  {
   "cell_type": "code",
   "execution_count": null,
   "metadata": {},
   "outputs": [],
   "source": []
  },
  {
   "cell_type": "code",
   "execution_count": null,
   "metadata": {},
   "outputs": [],
   "source": []
  },
  {
   "cell_type": "code",
   "execution_count": null,
   "metadata": {},
   "outputs": [],
   "source": []
  },
  {
   "cell_type": "code",
   "execution_count": 8,
   "metadata": {},
   "outputs": [],
   "source": [
    "# INFO=======================================\n",
    "# store the OUTPUT of key_generation function on local machine as private key\n",
    "# Get public key using key.pubkey method and store it on DB"
   ]
  },
  {
   "cell_type": "code",
   "execution_count": 38,
   "metadata": {},
   "outputs": [],
   "source": [
    "# Sender Side\n",
    "salt1 = get_salt()\n",
    "sender_key = key_generation('sender',\"SecretPassphrase1\",salt1)\n",
    "# print(sender_key.pubkey)"
   ]
  },
  {
   "cell_type": "code",
   "execution_count": 39,
   "metadata": {},
   "outputs": [],
   "source": [
    "#Receiver Side\n",
    "salt2=get_salt()\n",
    "receiver_key = key_generation('receiver',\"SecretPassphrase2\",salt2)\n",
    "# print(receiver_key.pubkey)"
   ]
  },
  {
   "cell_type": "code",
   "execution_count": 40,
   "metadata": {},
   "outputs": [],
   "source": [
    "sender_sec_str = str(sender_key) # sec_str is key from local machine\n",
    "sender_pub_str = str(sender_key.pubkey) # pub_str is key from DB"
   ]
  },
  {
   "cell_type": "code",
   "execution_count": 41,
   "metadata": {},
   "outputs": [],
   "source": [
    "receiver_sec_str = str(receiver_key) # sec_str is key from local machine\n",
    "receiver_pub_str = str(receiver_key.pubkey) # pub_str is key from DB"
   ]
  },
  {
   "cell_type": "code",
   "execution_count": 42,
   "metadata": {},
   "outputs": [
    {
     "name": "stdout",
     "output_type": "stream",
     "text": [
      "-----BEGIN PGP MESSAGE-----\n",
      "\n",
      "wcBMA1n4AwvTzPYlAQgAg/qJ44Eh47VaizhXoFEDG0aKw2Gg0KBrArYPIkSrayCE\n",
      "GGqOD0yDTJKHPQSjqdKdRa7hjAedVQZEyR5wTwr+WFB1MfyHjkMAUwxWfuAdZYzC\n",
      "Cm07Up/MZ7YdG7TJbhd9iMf/nOsht6kazr+VMiRmCoa2wihAE7/guhZT4Z9zGDb/\n",
      "NhaElMpKg067Jjck71UjCLNViFGDpZ7d37IoEG+L0/WSEUwYUpzIrmF+1DbP6pmS\n",
      "kxqONA3vxRq1/5NTMAiNgLOJxjwReg5A6VFyw8KFEPBhYhwhrOlqRpYHoB9XbPwl\n",
      "E5VYjLC0rM1i4N7IYuwKIeeEW6fm+sFrfNNuGgvol9JOAWDVn/GoSWMaR2IfGC3+\n",
      "D2qBHZJerl4DCARxWD1GUlp1bTkV2sWs1Dcr0NVy/i/3iZ47oXTpUNQ5SoKEFEqt\n",
      "o7haodTFn717BhLCYvHC\n",
      "=ekZn\n",
      "-----END PGP MESSAGE-----\n",
      "\n",
      "<class 'pgpy.pgp.PGPMessage'>\n",
      "encrypted? True\n",
      "Signed? False\n"
     ]
    }
   ],
   "source": [
    "#Sender Side\n",
    "enc = encryption(receiver_pub_str,\"This is Time Pass Message!\")\n",
    "print(enc)\n",
    "print(type(enc))\n",
    "print(\"encrypted? \" + str(enc.is_encrypted))\n",
    "print(\"Signed? \" + str(enc.is_signed))"
   ]
  },
  {
   "cell_type": "code",
   "execution_count": null,
   "metadata": {},
   "outputs": [],
   "source": []
  },
  {
   "cell_type": "code",
   "execution_count": 43,
   "metadata": {},
   "outputs": [
    {
     "name": "stdout",
     "output_type": "stream",
     "text": [
      "-----BEGIN PGP SIGNATURE-----\n",
      "\n",
      "wsBcBAABCAAGBQJepWEfAAoJEENvgUtxXTwx5VQIALto3eiBgLFz8CGgtZ8DDjgC\n",
      "9h1Q6vEMXQy4/YlKlqTWTKPGbDa179avZAm16n0m7PKg6HxUu9CPEB3NZ4pnmp/L\n",
      "nzYM0XvIybxWjVjEeCICADlsBfF9Qtoain1FwFxI/TdXXnxsDMJjvha2LMpjo1AA\n",
      "/hy+MsbrFg4/2Ui+Q8ZQoJ1w+I+GgBXzvYJ3lSt1e9fAc+5wpQ7D6Xr4y0siSt5M\n",
      "zeS2uN5RG7SSFLAI/egBOjXFv8FBCAcL2j2SYDLboH5G/0mK4++3okYS9IoG2KR2\n",
      "3qqhXXHcruBS66U8PBQ/NT56wQGk3Ro9vVrJD4iliIleGgi2rpZu83cOcepNLXw=\n",
      "=mZE9\n",
      "-----END PGP SIGNATURE-----\n",
      "\n",
      "<class 'pgpy.pgp.PGPSignature'>\n"
     ]
    }
   ],
   "source": [
    "#Sender Side\n",
    "signature = sign(sender_sec_str,str(enc),\"SecretPassphrase1\",salt1)\n",
    "print(signature)\n",
    "print(type(signature))"
   ]
  },
  {
   "cell_type": "code",
   "execution_count": 44,
   "metadata": {},
   "outputs": [
    {
     "name": "stdout",
     "output_type": "stream",
     "text": [
      "True\n"
     ]
    }
   ],
   "source": [
    "#Receiver Side\n",
    "print(verify(sender_pub_str,str(enc),str(signature)))"
   ]
  },
  {
   "cell_type": "code",
   "execution_count": 45,
   "metadata": {},
   "outputs": [
    {
     "name": "stdout",
     "output_type": "stream",
     "text": [
      "This is Time Pass Message!\n"
     ]
    }
   ],
   "source": [
    "#Receiver Side\n",
    "print(decryption(receiver_sec_str,enc,\"SecretPassphrase2\",salt2))"
   ]
  },
  {
   "cell_type": "code",
   "execution_count": null,
   "metadata": {},
   "outputs": [],
   "source": []
  },
  {
   "cell_type": "code",
   "execution_count": null,
   "metadata": {},
   "outputs": [],
   "source": []
  },
  {
   "cell_type": "code",
   "execution_count": null,
   "metadata": {},
   "outputs": [],
   "source": []
  }
 ],
 "metadata": {
  "kernelspec": {
   "display_name": "Python 3",
   "language": "python",
   "name": "python3"
  },
  "language_info": {
   "codemirror_mode": {
    "name": "ipython",
    "version": 3
   },
   "file_extension": ".py",
   "mimetype": "text/x-python",
   "name": "python",
   "nbconvert_exporter": "python",
   "pygments_lexer": "ipython3",
   "version": "3.6.5"
  }
 },
 "nbformat": 4,
 "nbformat_minor": 4
}
