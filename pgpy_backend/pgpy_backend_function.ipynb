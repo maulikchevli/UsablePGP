{
 "cells": [
  {
   "cell_type": "code",
   "execution_count": 1,
   "metadata": {},
   "outputs": [],
   "source": [
    "from pgpy.constants import PubKeyAlgorithm, KeyFlags, HashAlgorithm, SymmetricKeyAlgorithm, CompressionAlgorithm\n",
    "import pgpy\n",
    "import os\n",
    "import glob"
   ]
  },
  {
   "cell_type": "code",
   "execution_count": 2,
   "metadata": {},
   "outputs": [],
   "source": [
    "def key_generation(user_name):\n",
    "    key = pgpy.PGPKey.new(PubKeyAlgorithm.RSAEncryptOrSign, 2048)\n",
    "    uid = pgpy.PGPUID.new(user_name)\n",
    "    # print(uid)\n",
    "\n",
    "    key.add_uid(uid, usage={KeyFlags.Sign, KeyFlags.EncryptCommunications, KeyFlags.EncryptStorage},\n",
    "            hashes=[HashAlgorithm.SHA256, HashAlgorithm.SHA384, HashAlgorithm.SHA512, HashAlgorithm.SHA224],\n",
    "            ciphers=[SymmetricKeyAlgorithm.AES256, SymmetricKeyAlgorithm.AES192, SymmetricKeyAlgorithm.AES128],\n",
    "            compression=[CompressionAlgorithm.ZLIB, CompressionAlgorithm.BZ2, CompressionAlgorithm.ZIP, CompressionAlgorithm.Uncompressed])\n",
    "    return key\n",
    "    # print(key)"
   ]
  },
  {
   "cell_type": "code",
   "execution_count": 3,
   "metadata": {},
   "outputs": [],
   "source": [
    "# message is in string given by User\n",
    "# pub_key is fetched from Database i.e Receivers public Key\n",
    "def encryption(pub_key,message):\n",
    "    pub_key_enc_pgpy, _ = pgpy.PGPKey.from_blob(pub_key)\n",
    "    text_message = pgpy.PGPMessage.new(message)\n",
    "    encrypted_message = pub_key_enc_pgpy.encrypt(text_message)\n",
    "    return encrypted_message"
   ]
  },
  {
   "cell_type": "code",
   "execution_count": 4,
   "metadata": {},
   "outputs": [],
   "source": [
    "# sec_key is Private key stored on local device\n",
    "# enc_message is encrypted message\n",
    "def decryption(sec_key,enc_message):\n",
    "    temp_pgpy = pgpy.PGPKey()\n",
    "    temp_pgpy.parse(sec_key)\n",
    "    decrypted_message = temp_pgpy.decrypt(enc_message)\n",
    "    return decrypted_message.message"
   ]
  },
  {
   "cell_type": "code",
   "execution_count": 5,
   "metadata": {},
   "outputs": [],
   "source": [
    "# sec_key is key stored at local machine i.e private key\n",
    "# message is string\n",
    "# function will return signature only, that is not attached to message\n",
    "def sign(sec_key,message):\n",
    "    temp_pgpy = pgpy.PGPKey()\n",
    "    temp_pgpy.parse(sec_key)\n",
    "    message = pgpy.PGPMessage.new(message)\n",
    "    signature = temp_pgpy.sign(message)\n",
    "    return signature"
   ]
  },
  {
   "cell_type": "code",
   "execution_count": 7,
   "metadata": {},
   "outputs": [],
   "source": [
    "# pub_key is key fetched from DB\n",
    "# message is signed string message\n",
    "def verify(pub_key,message,signature):\n",
    "    pub_key, _ = pgpy.PGPKey.from_blob(pub_key)\n",
    "    temp_pgpy = pgpy.PGPSignature()\n",
    "    temp_pgpy.parse(signature)\n",
    "    if pub_key.verify(message,temp_pgpy):\n",
    "        return True\n",
    "    else:\n",
    "        return False"
   ]
  },
  {
   "cell_type": "code",
   "execution_count": null,
   "metadata": {},
   "outputs": [],
   "source": []
  },
  {
   "cell_type": "code",
   "execution_count": null,
   "metadata": {},
   "outputs": [],
   "source": []
  },
  {
   "cell_type": "code",
   "execution_count": null,
   "metadata": {},
   "outputs": [],
   "source": []
  },
  {
   "cell_type": "code",
   "execution_count": null,
   "metadata": {},
   "outputs": [],
   "source": []
  },
  {
   "cell_type": "code",
   "execution_count": 8,
   "metadata": {},
   "outputs": [],
   "source": [
    "# INFO=======================================\n",
    "# store the OUTPUT of key_generation function on local machine as private key\n",
    "# Get public key using key.pubkey method and store it on DB"
   ]
  },
  {
   "cell_type": "code",
   "execution_count": 9,
   "metadata": {},
   "outputs": [],
   "source": [
    "# Only argument of function is user name\n",
    "sender_key = key_generation('sender')\n",
    "# print(sender_key.pubkey)"
   ]
  },
  {
   "cell_type": "code",
   "execution_count": 10,
   "metadata": {},
   "outputs": [],
   "source": [
    "receiver_key = key_generation('receiver')\n",
    "# print(receiver_key.pubkey)"
   ]
  },
  {
   "cell_type": "code",
   "execution_count": 11,
   "metadata": {},
   "outputs": [],
   "source": [
    "sender_sec_str = str(sender_key) # sec_str is key from local machine\n",
    "sender_pub_str = str(sender_key.pubkey) # pub_str is key from DB"
   ]
  },
  {
   "cell_type": "code",
   "execution_count": 12,
   "metadata": {},
   "outputs": [],
   "source": [
    "receiver_sec_str = str(receiver_key) # sec_str is key from local machine\n",
    "receiver_pub_str = str(receiver_key.pubkey) # pub_str is key from DB"
   ]
  },
  {
   "cell_type": "code",
   "execution_count": 17,
   "metadata": {},
   "outputs": [
    {
     "name": "stdout",
     "output_type": "stream",
     "text": [
      "-----BEGIN PGP MESSAGE-----\n",
      "\n",
      "wcBMA359Lqmlu861AQf/Z4k0R4T0cT5a3k7OWhit2dAxAjtEFmVeJ6af3zbjZbG6\n",
      "0ml8JVlPzclHfcSpNFOOrSNyziFpZzf50ZrBE0zGxXkliW9liaSgLmcWb8nn8Esx\n",
      "imHRGkY5FPiVj8HFofbusS+hnJv0GrF2ERZg9Sc4ZG1HaTGw8ovWBAVgmZarcvno\n",
      "pdvyejt3mb6dfYlX+EJxqXLJtQj8nLF7LZHWAPP4k5iuKzO4ITB6WthwCqX7VOuM\n",
      "s7HdkUFXMnhDt2scmsti8CxcjA77sytZjwEZPGxuHLeOcOmD2eDAgwYeyboUOurE\n",
      "bkR9SwTze7QhUoErjeAkof8fYLAoURO44MdJiPkvKNJPAfj6sUw2q8IfO3XGJ6aW\n",
      "/iviQH9UlL5MOHovVcpCJRBW8/a3vBP/v7CxeQdmzus0T+3C0/GnvkeWFazrsyMD\n",
      "v61JFEwmqbaMOofiX+em4w==\n",
      "=cAUG\n",
      "-----END PGP MESSAGE-----\n",
      "\n",
      "<class 'pgpy.pgp.PGPMessage'>\n",
      "encrypted? True\n",
      "Signed? False\n"
     ]
    }
   ],
   "source": [
    "enc = encryption(receiver_pub_str,\"This is Time Pass Message!\")\n",
    "print(enc)\n",
    "print(type(enc))\n",
    "print(\"encrypted? \" + str(enc.is_encrypted))\n",
    "print(\"Signed? \" + str(enc.is_signed))"
   ]
  },
  {
   "cell_type": "code",
   "execution_count": null,
   "metadata": {},
   "outputs": [],
   "source": []
  },
  {
   "cell_type": "code",
   "execution_count": 18,
   "metadata": {},
   "outputs": [
    {
     "name": "stdout",
     "output_type": "stream",
     "text": [
      "-----BEGIN PGP SIGNATURE-----\n",
      "\n",
      "wsBcBAABCAAGBQJepVDKAAoJEJW+7jmNve6RtqAIAMYty4+ql3oR35U4iRD84dLJ\n",
      "l/yHBW6B9iDsUCjl/TstapLAyhCdgBs31Uy62t0aCm5D7FY091OOQxZlYRJ/sCpk\n",
      "lZC0MbraZaJKZPqNZ2xq2qLdzP0o2EtfCHOGL2rlMzX/7z89XwNv6PklMDA54Vn2\n",
      "LxaLJ2iTF8RAYYpig2kqcJXDVsRIeIewnCjUNeL8676StmZSEZ05N+81k/fABK7j\n",
      "tEoaIrpNAGw9oW5kqaWh+9pFMp60lhYjla3odyGg4YBUhQbmpxJ078zZxh16bNov\n",
      "H8/5GrgeWf5veQcyn9DtPY9cY8jbr7DIITZ221hu2hOoQyZR6lM6dNWtm9wbeIc=\n",
      "=E31X\n",
      "-----END PGP SIGNATURE-----\n",
      "\n",
      "<class 'pgpy.pgp.PGPSignature'>\n"
     ]
    }
   ],
   "source": [
    "signature = sign(sender_sec_str,str(enc))\n",
    "print(signature)\n",
    "print(type(signature))"
   ]
  },
  {
   "cell_type": "code",
   "execution_count": 19,
   "metadata": {},
   "outputs": [
    {
     "name": "stdout",
     "output_type": "stream",
     "text": [
      "True\n"
     ]
    }
   ],
   "source": [
    "print(verify(sender_pub_str,str(enc),str(signature)))"
   ]
  },
  {
   "cell_type": "code",
   "execution_count": 16,
   "metadata": {},
   "outputs": [
    {
     "name": "stdout",
     "output_type": "stream",
     "text": [
      "This is Time Pass Message!\n"
     ]
    }
   ],
   "source": [
    "print(decryption(receiver_sec_str,enc))"
   ]
  },
  {
   "cell_type": "code",
   "execution_count": null,
   "metadata": {},
   "outputs": [],
   "source": []
  },
  {
   "cell_type": "code",
   "execution_count": null,
   "metadata": {},
   "outputs": [],
   "source": []
  },
  {
   "cell_type": "code",
   "execution_count": null,
   "metadata": {},
   "outputs": [],
   "source": []
  }
 ],
 "metadata": {
  "kernelspec": {
   "display_name": "Python 3",
   "language": "python",
   "name": "python3"
  },
  "language_info": {
   "codemirror_mode": {
    "name": "ipython",
    "version": 3
   },
   "file_extension": ".py",
   "mimetype": "text/x-python",
   "name": "python",
   "nbconvert_exporter": "python",
   "pygments_lexer": "ipython3",
   "version": "3.7.6"
  }
 },
 "nbformat": 4,
 "nbformat_minor": 4
}
