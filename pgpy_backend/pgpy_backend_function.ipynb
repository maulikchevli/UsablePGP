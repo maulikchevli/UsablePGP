{
 "cells": [
  {
   "cell_type": "code",
   "execution_count": 5,
   "metadata": {},
   "outputs": [],
   "source": [
    "from pgpy.constants import PubKeyAlgorithm, KeyFlags, HashAlgorithm, SymmetricKeyAlgorithm, CompressionAlgorithm\n",
    "import pgpy\n",
    "import os\n",
    "import glob\n",
    "from secrets import token_hex"
   ]
  },
  {
   "cell_type": "code",
   "execution_count": 6,
   "metadata": {},
   "outputs": [],
   "source": [
    "def key_generation(user_name,passphrase,salt):\n",
    "    key = pgpy.PGPKey.new(PubKeyAlgorithm.RSAEncryptOrSign, 2048)\n",
    "    uid = pgpy.PGPUID.new(user_name)\n",
    "\n",
    "    key.add_uid(uid, usage={KeyFlags.Sign, KeyFlags.EncryptCommunications, KeyFlags.EncryptStorage},\n",
    "            hashes=[HashAlgorithm.SHA256, HashAlgorithm.SHA384, HashAlgorithm.SHA512, HashAlgorithm.SHA224],\n",
    "            ciphers=[SymmetricKeyAlgorithm.AES256, SymmetricKeyAlgorithm.AES192, SymmetricKeyAlgorithm.AES128],\n",
    "            compression=[CompressionAlgorithm.ZLIB, CompressionAlgorithm.BZ2, CompressionAlgorithm.ZIP, CompressionAlgorithm.Uncompressed])\n",
    "    key.protect(passphrase+salt, SymmetricKeyAlgorithm.AES256, HashAlgorithm.SHA256)\n",
    "    return key"
   ]
  },
  {
   "cell_type": "code",
   "execution_count": 7,
   "metadata": {},
   "outputs": [],
   "source": [
    "# message is in string given by User\n",
    "# pub_key is fetched from Database i.e Receivers public Key\n",
    "def encryption(pub_key,message):\n",
    "    pub_key_enc_pgpy, _ = pgpy.PGPKey.from_blob(pub_key)\n",
    "    text_message = pgpy.PGPMessage.new(message)\n",
    "    encrypted_message = pub_key_enc_pgpy.encrypt(text_message)\n",
    "    return encrypted_message"
   ]
  },
  {
   "cell_type": "code",
   "execution_count": 8,
   "metadata": {},
   "outputs": [],
   "source": [
    "# sec_key is Private key stored on local device\n",
    "# enc_message is encrypted message\n",
    "def decryption(sec_key,enc_message,passphrase,salt):\n",
    "    temp_pgpy = pgpy.PGPKey()\n",
    "    temp_pgpy.parse(sec_key)\n",
    "    message = pgpy.PGPMessage()\n",
    "    message.parse(enc_message)\n",
    "    try:\n",
    "        with temp_pgpy.unlock(passphrase+salt):\n",
    "            decrypted_message = temp_pgpy.decrypt(message)\n",
    "            return decrypted_message.message\n",
    "    except:\n",
    "        print(\"Wrong passphrase\")"
   ]
  },
  {
   "cell_type": "code",
   "execution_count": 9,
   "metadata": {},
   "outputs": [],
   "source": [
    "# sec_key is key stored at local machine i.e private key\n",
    "# message is string\n",
    "def sign(sec_key,message,passphrase,salt):\n",
    "    temp_pgpy = pgpy.PGPKey()\n",
    "    temp_pgpy.parse(sec_key)\n",
    "    try:\n",
    "        with temp_pgpy.unlock(passphrase+salt):\n",
    "            message = pgpy.PGPMessage.new(message)\n",
    "            signature = temp_pgpy.sign(message)\n",
    "            return signature\n",
    "    except:\n",
    "        print(\"Wrong passphrase\")"
   ]
  },
  {
   "cell_type": "code",
   "execution_count": 10,
   "metadata": {},
   "outputs": [],
   "source": [
    "# pub_key is key fetched from DB\n",
    "# message is signed string message\n",
    "def verify(pub_key,message,signature):\n",
    "    pub_key, _ = pgpy.PGPKey.from_blob(pub_key)\n",
    "    temp_pgpy = pgpy.PGPSignature()\n",
    "    temp_pgpy.parse(signature)\n",
    "    if pub_key.verify(message,temp_pgpy):\n",
    "        return True\n",
    "    else:\n",
    "        return False\n"
   ]
  },
  {
   "cell_type": "code",
   "execution_count": 11,
   "metadata": {},
   "outputs": [],
   "source": [
    "def get_salt():\n",
    "    return str(token_hex(16))"
   ]
  },
  {
   "cell_type": "code",
   "execution_count": 12,
   "metadata": {},
   "outputs": [],
   "source": [
    "def combine(enc,sign):\n",
    "    return (str(enc)+str(sign))"
   ]
  },
  {
   "cell_type": "code",
   "execution_count": 13,
   "metadata": {},
   "outputs": [],
   "source": [
    "def separate_enc_sign(combined_msg):\n",
    "    index_of_sign = combined_msg.find(\"-----BEGIN PGP SIGNATURE-----\")\n",
    "    extracted_msg = combined_msg[0:index_of_sign]\n",
    "    extracted_sign = combined_msg[index_of_sign:len(combined_msg)]\n",
    "    return extracted_msg,extracted_sign"
   ]
  },
  {
   "cell_type": "code",
   "execution_count": 25,
   "metadata": {},
   "outputs": [],
   "source": [
    "# both keys are in string format\n",
    "def sign_public_key(public_key,private_key,passphrase,salt):\n",
    "    public_pgpy = pgpy.PGPKey()\n",
    "    public_pgpy.parse(public_key)\n",
    "    private_pgpy = pgpy.PGPKey()\n",
    "    private_pgpy.parse(private_key)\n",
    "    try:\n",
    "        with private_pgpy.unlock(passphrase+salt):\n",
    "            sign = private_pgpy.certify(public_pgpy)\n",
    "            return sign\n",
    "    except:\n",
    "        print(\"Wrong passphrase\")    "
   ]
  },
  {
   "cell_type": "code",
   "execution_count": null,
   "metadata": {},
   "outputs": [],
   "source": []
  },
  {
   "cell_type": "code",
   "execution_count": null,
   "metadata": {},
   "outputs": [],
   "source": []
  },
  {
   "cell_type": "code",
   "execution_count": null,
   "metadata": {},
   "outputs": [],
   "source": []
  },
  {
   "cell_type": "code",
   "execution_count": 15,
   "metadata": {},
   "outputs": [],
   "source": [
    "# INFO=======================================\n",
    "# store the OUTPUT of key_generation function on local machine as private key\n",
    "# Get public key using key.pubkey method and store it on DB"
   ]
  },
  {
   "cell_type": "code",
   "execution_count": 16,
   "metadata": {},
   "outputs": [],
   "source": [
    "# Sender Side\n",
    "salt1 = get_salt()\n",
    "sender_key = key_generation('sender',\"SecretPassphrase1\",salt1)\n",
    "# print(sender_key.pubkey)"
   ]
  },
  {
   "cell_type": "code",
   "execution_count": 17,
   "metadata": {},
   "outputs": [],
   "source": [
    "#Receiver Side\n",
    "salt2=get_salt()\n",
    "receiver_key = key_generation('receiver',\"SecretPassphrase2\",salt2)\n",
    "# print(receiver_key.pubkey)"
   ]
  },
  {
   "cell_type": "code",
   "execution_count": 18,
   "metadata": {},
   "outputs": [],
   "source": [
    "sender_sec_str = str(sender_key) # sec_str is key from local machine\n",
    "sender_pub_str = str(sender_key.pubkey) # pub_str is key from DB"
   ]
  },
  {
   "cell_type": "code",
   "execution_count": 19,
   "metadata": {},
   "outputs": [],
   "source": [
    "receiver_sec_str = str(receiver_key) # sec_str is key from local machine\n",
    "receiver_pub_str = str(receiver_key.pubkey) # pub_str is key from DB"
   ]
  },
  {
   "cell_type": "code",
   "execution_count": 28,
   "metadata": {},
   "outputs": [],
   "source": [
    "signature_public = sign_public_key(receiver_pub_str,receiver_sec_str,\"SecretPassphrase2\",salt2)"
   ]
  },
  {
   "cell_type": "code",
   "execution_count": 29,
   "metadata": {},
   "outputs": [
    {
     "name": "stdout",
     "output_type": "stream",
     "text": [
      "-----BEGIN PGP SIGNATURE-----\n",
      "\n",
      "wsBfBB8BCAAJBQJeputTAh4BAAoJEKJ8eZVOB14NN5kIAJ5p9m1b9m6yteUbeURq\n",
      "uVa/p3GzrGFsZ22Sf5y0Iq7pullxIKTR8uKaOH8FzDGjLRul8gCfUmagxEWqKExI\n",
      "NhCy+P597SGBsnNu5uzPH/wSor1y9TpxrOyJYpIKPVQ60MoDz1vdBE9s0O3+Aj8N\n",
      "n25lqwXmcRrb2c/wL3LK0MNDIMgicM8CRVk5hzYz7d1HPwJx0lfmYE/Z5lm5gk63\n",
      "R7rhH1CNH0VfX75GjVgjsfS6zlKZzNWF5XDyYv9OCvMRFYPT1osnqHGjx+S+8hxX\n",
      "ejHeoKOLkcbaOn2mvtg/+zXQ40NG5mv48Is3rsNZILbtf00jOy06atHoquXu8G3N\n",
      "0G0=\n",
      "=dP9w\n",
      "-----END PGP SIGNATURE-----\n",
      "\n"
     ]
    }
   ],
   "source": [
    "print(signature_public)"
   ]
  },
  {
   "cell_type": "code",
   "execution_count": null,
   "metadata": {},
   "outputs": [],
   "source": []
  },
  {
   "cell_type": "code",
   "execution_count": null,
   "metadata": {},
   "outputs": [],
   "source": []
  },
  {
   "cell_type": "code",
   "execution_count": 20,
   "metadata": {},
   "outputs": [
    {
     "name": "stdout",
     "output_type": "stream",
     "text": [
      "<class 'pgpy.pgp.PGPMessage'>\n"
     ]
    }
   ],
   "source": [
    "#Sender Side\n",
    "enc = encryption(receiver_pub_str,\"This is Time Pass Message!\")\n",
    "# print(enc)\n",
    "print(type(enc))\n",
    "# print(\"encrypted? \" + str(enc.is_encrypted))\n",
    "# print(\"Signed? \" + str(enc.is_signed))"
   ]
  },
  {
   "cell_type": "code",
   "execution_count": null,
   "metadata": {},
   "outputs": [],
   "source": []
  },
  {
   "cell_type": "code",
   "execution_count": 21,
   "metadata": {},
   "outputs": [
    {
     "name": "stdout",
     "output_type": "stream",
     "text": [
      "-----BEGIN PGP SIGNATURE-----\n",
      "\n",
      "wsBcBAABCAAGBQJepuoPAAoJEHs7v9QJ5x2yR/wIAJS00rnF8PzCZekWuUr7KONF\n",
      "qJvpO2iFAQtkBuHnzV+qQYlap7Ck4m0Onv8cFxhJQUHl0djg3YWzCb3M46Yx3Fol\n",
      "FvU4fjj3oZBqZzmZPgnZJjrWVttjmJRSk9Zp0o3Hwz4h12NukoqeaoxlyHJA22wF\n",
      "idYQ7Drf+PMt6O0AxduvFZBTU/pCAYyJS3O4S/lHhUcigl2KADzRDv53fotyuHb8\n",
      "s5qFG+JeaV/R0OltvZBNwbwbdjeFO0KM1N0VKk4WazgmJ4L/j7LeVBs8fKgvBbeg\n",
      "bIQGlx72z6XyvAABpbtiJ3uykKZMRk3mhVjVH5TyJljwrDP30wHD+cDCDpSB9kc=\n",
      "=k0Z1\n",
      "-----END PGP SIGNATURE-----\n",
      "\n",
      "<class 'pgpy.pgp.PGPSignature'>\n"
     ]
    }
   ],
   "source": [
    "#Sender Side\n",
    "signature = sign(sender_sec_str,str(enc),\"SecretPassphrase1\",salt1)\n",
    "print(signature)\n",
    "print(type(signature))"
   ]
  },
  {
   "cell_type": "code",
   "execution_count": 22,
   "metadata": {},
   "outputs": [
    {
     "name": "stdout",
     "output_type": "stream",
     "text": [
      "-----BEGIN PGP MESSAGE-----\n",
      "\n",
      "wcBMA6J8eZVOB14NAQf9EG0jaHkL4PmI4jeHwYMYKGRvi8jErS7TdadQFsWMFlZz\n",
      "LuIIpH+kp1anJIsXkNVKiU+xrgfYI32ArlvhTSrt2EkM7zua5SuXC5MXFNwHLuKj\n",
      "fICbFGfpDTjbkXH9+cJV7z9Yax71rEyXkxT7gTv+ch4LID/bVXW9V/tkm3TMgBMv\n",
      "dk3NQvAJi9clSXkqL1sWljUF+8txbTPwjfwB9Z1sdnbSPdZXOZ/z/hZNhwvH7OOb\n",
      "Qa2mf02YJMd96Dmg6ScEq7CRDgXUz4b4Ld+Sr6IRFKpRlmkUbqxCbHswQ9yzZBs3\n",
      "9J3culJgUdziLAgOghO7x94a8QeDlXdsw2YO2uwOOtJPAdhAQw0aHOAXq0XpnPPI\n",
      "20eggF8khmRCsYEQdsnfCJQxdog8dVwC7xof2N9mA72RgeBX21dmyvhJ4kzh8fVa\n",
      "jpSpWtIN14kNcNnvQXEaPQ==\n",
      "=xogS\n",
      "-----END PGP MESSAGE-----\n",
      "-----BEGIN PGP SIGNATURE-----\n",
      "\n",
      "wsBcBAABCAAGBQJepuoPAAoJEHs7v9QJ5x2yR/wIAJS00rnF8PzCZekWuUr7KONF\n",
      "qJvpO2iFAQtkBuHnzV+qQYlap7Ck4m0Onv8cFxhJQUHl0djg3YWzCb3M46Yx3Fol\n",
      "FvU4fjj3oZBqZzmZPgnZJjrWVttjmJRSk9Zp0o3Hwz4h12NukoqeaoxlyHJA22wF\n",
      "idYQ7Drf+PMt6O0AxduvFZBTU/pCAYyJS3O4S/lHhUcigl2KADzRDv53fotyuHb8\n",
      "s5qFG+JeaV/R0OltvZBNwbwbdjeFO0KM1N0VKk4WazgmJ4L/j7LeVBs8fKgvBbeg\n",
      "bIQGlx72z6XyvAABpbtiJ3uykKZMRk3mhVjVH5TyJljwrDP30wHD+cDCDpSB9kc=\n",
      "=k0Z1\n",
      "-----END PGP SIGNATURE-----\n",
      "\n"
     ]
    }
   ],
   "source": [
    "#sender side\n",
    "combined_msg = combine(enc,signature)\n",
    "print(combined_msg)"
   ]
  },
  {
   "cell_type": "code",
   "execution_count": null,
   "metadata": {},
   "outputs": [],
   "source": []
  },
  {
   "cell_type": "code",
   "execution_count": null,
   "metadata": {},
   "outputs": [],
   "source": []
  },
  {
   "cell_type": "code",
   "execution_count": 33,
   "metadata": {},
   "outputs": [],
   "source": [
    "#Receiver side\n",
    "extracted_msg,extracted_sign = separate_enc_sign(combined_msg)\n",
    "# print(extracted_msg)"
   ]
  },
  {
   "cell_type": "code",
   "execution_count": 34,
   "metadata": {},
   "outputs": [],
   "source": [
    "# print(extracted_sign)"
   ]
  },
  {
   "cell_type": "code",
   "execution_count": null,
   "metadata": {},
   "outputs": [],
   "source": []
  },
  {
   "cell_type": "code",
   "execution_count": 35,
   "metadata": {},
   "outputs": [
    {
     "name": "stdout",
     "output_type": "stream",
     "text": [
      "True\n"
     ]
    }
   ],
   "source": [
    "#Receiver Side\n",
    "print(verify(sender_pub_str,str(extracted_msg),str(extracted_sign)))"
   ]
  },
  {
   "cell_type": "code",
   "execution_count": 36,
   "metadata": {},
   "outputs": [
    {
     "name": "stdout",
     "output_type": "stream",
     "text": [
      "This is Time Pass Message!\n"
     ]
    }
   ],
   "source": [
    "#Receiver Side\n",
    "print(decryption(receiver_sec_str,extracted_msg,\"SecretPassphrase2\",salt2))"
   ]
  },
  {
   "cell_type": "code",
   "execution_count": null,
   "metadata": {},
   "outputs": [],
   "source": []
  },
  {
   "cell_type": "code",
   "execution_count": null,
   "metadata": {},
   "outputs": [],
   "source": []
  },
  {
   "cell_type": "code",
   "execution_count": null,
   "metadata": {},
   "outputs": [],
   "source": []
  }
 ],
 "metadata": {
  "kernelspec": {
   "display_name": "Python 3",
   "language": "python",
   "name": "python3"
  },
  "language_info": {
   "codemirror_mode": {
    "name": "ipython",
    "version": 3
   },
   "file_extension": ".py",
   "mimetype": "text/x-python",
   "name": "python",
   "nbconvert_exporter": "python",
   "pygments_lexer": "ipython3",
   "version": "3.7.6"
  }
 },
 "nbformat": 4,
 "nbformat_minor": 4
}
