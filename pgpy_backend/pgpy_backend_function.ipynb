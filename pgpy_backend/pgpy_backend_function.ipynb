{
 "cells": [
  {
   "cell_type": "code",
   "execution_count": 3,
   "metadata": {},
   "outputs": [],
   "source": [
    "from pgpy.constants import PubKeyAlgorithm, KeyFlags, HashAlgorithm, SymmetricKeyAlgorithm, CompressionAlgorithm\n",
    "import pgpy\n",
    "import os\n",
    "import glob\n",
    "from secrets import token_hex"
   ]
  },
  {
   "cell_type": "code",
   "execution_count": 4,
   "metadata": {},
   "outputs": [],
   "source": [
    "def key_generation(user_name,passphrase,salt):\n",
    "    key = pgpy.PGPKey.new(PubKeyAlgorithm.RSAEncryptOrSign, 2048)\n",
    "    uid = pgpy.PGPUID.new(user_name)\n",
    "\n",
    "    key.add_uid(uid, usage={KeyFlags.Sign, KeyFlags.EncryptCommunications, KeyFlags.EncryptStorage},\n",
    "            hashes=[HashAlgorithm.SHA256, HashAlgorithm.SHA384, HashAlgorithm.SHA512, HashAlgorithm.SHA224],\n",
    "            ciphers=[SymmetricKeyAlgorithm.AES256, SymmetricKeyAlgorithm.AES192, SymmetricKeyAlgorithm.AES128],\n",
    "            compression=[CompressionAlgorithm.ZLIB, CompressionAlgorithm.BZ2, CompressionAlgorithm.ZIP, CompressionAlgorithm.Uncompressed])\n",
    "    key.protect(passphrase+salt, SymmetricKeyAlgorithm.AES256, HashAlgorithm.SHA256)\n",
    "    return key"
   ]
  },
  {
   "cell_type": "code",
   "execution_count": 5,
   "metadata": {},
   "outputs": [],
   "source": [
    "# message is in string given by User\n",
    "# pub_key is fetched from Database i.e Receivers public Key\n",
    "def encryption(pub_key,message):\n",
    "    pub_key_enc_pgpy, _ = pgpy.PGPKey.from_blob(pub_key)\n",
    "    text_message = pgpy.PGPMessage.new(message)\n",
    "    encrypted_message = pub_key_enc_pgpy.encrypt(text_message)\n",
    "    return encrypted_message"
   ]
  },
  {
   "cell_type": "code",
   "execution_count": 6,
   "metadata": {},
   "outputs": [],
   "source": [
    "# sec_key is Private key stored on local device\n",
    "# enc_message is encrypted message\n",
    "def decryption(sec_key,enc_message,passphrase,salt):\n",
    "    temp_pgpy = pgpy.PGPKey()\n",
    "    temp_pgpy.parse(sec_key)\n",
    "    message = pgpy.PGPMessage()\n",
    "    message.parse(enc_message)\n",
    "    try:\n",
    "        with temp_pgpy.unlock(passphrase+salt):\n",
    "            decrypted_message = temp_pgpy.decrypt(message)\n",
    "            return decrypted_message.message\n",
    "    except:\n",
    "        print(\"Wrong passphrase\")"
   ]
  },
  {
   "cell_type": "code",
   "execution_count": 7,
   "metadata": {},
   "outputs": [],
   "source": [
    "# sec_key is key stored at local machine i.e private key\n",
    "# message is string\n",
    "def sign(sec_key,message,passphrase,salt):\n",
    "    temp_pgpy = pgpy.PGPKey()\n",
    "    temp_pgpy.parse(sec_key)\n",
    "    try:\n",
    "        with temp_pgpy.unlock(passphrase+salt):\n",
    "            message = pgpy.PGPMessage.new(message)\n",
    "            signature = temp_pgpy.sign(message)\n",
    "            return signature\n",
    "    except:\n",
    "        print(\"Wrong passphrase\")"
   ]
  },
  {
   "cell_type": "code",
   "execution_count": 8,
   "metadata": {},
   "outputs": [],
   "source": [
    "# pub_key is key fetched from DB\n",
    "# message is signed string message\n",
    "def verify(pub_key,message,signature):\n",
    "    pub_key, _ = pgpy.PGPKey.from_blob(pub_key)\n",
    "    temp_pgpy = pgpy.PGPSignature()\n",
    "    temp_pgpy.parse(signature)\n",
    "    if pub_key.verify(message,temp_pgpy):\n",
    "        return True\n",
    "    else:\n",
    "        return False\n"
   ]
  },
  {
   "cell_type": "code",
   "execution_count": 9,
   "metadata": {},
   "outputs": [],
   "source": [
    "def get_salt():\n",
    "    return str(token_hex(16))"
   ]
  },
  {
   "cell_type": "code",
   "execution_count": 10,
   "metadata": {},
   "outputs": [],
   "source": [
    "def combine(enc,sign):\n",
    "    return (str(enc)+str(sign))"
   ]
  },
  {
   "cell_type": "code",
   "execution_count": 11,
   "metadata": {},
   "outputs": [],
   "source": [
    "def separate_enc_sign(combined_msg):\n",
    "    index_of_sign = combined_msg.find(\"-----BEGIN PGP SIGNATURE-----\")\n",
    "    extracted_msg = combined_msg[0:index_of_sign]\n",
    "    extracted_sign = combined_msg[index_of_sign:len(combined_msg)]\n",
    "    return extracted_msg,extracted_sign"
   ]
  },
  {
   "cell_type": "code",
   "execution_count": null,
   "metadata": {},
   "outputs": [],
   "source": []
  },
  {
   "cell_type": "code",
   "execution_count": null,
   "metadata": {},
   "outputs": [],
   "source": []
  },
  {
   "cell_type": "code",
   "execution_count": null,
   "metadata": {},
   "outputs": [],
   "source": []
  },
  {
   "cell_type": "code",
   "execution_count": null,
   "metadata": {},
   "outputs": [],
   "source": []
  },
  {
   "cell_type": "code",
   "execution_count": null,
   "metadata": {},
   "outputs": [],
   "source": []
  },
  {
   "cell_type": "code",
   "execution_count": 25,
   "metadata": {},
   "outputs": [],
   "source": [
    "# INFO=======================================\n",
    "# store the OUTPUT of key_generation function on local machine as private key\n",
    "# Get public key using key.pubkey method and store it on DB"
   ]
  },
  {
   "cell_type": "code",
   "execution_count": 26,
   "metadata": {},
   "outputs": [],
   "source": [
    "# Sender Side\n",
    "salt1 = get_salt()\n",
    "sender_key = key_generation('sender',\"SecretPassphrase1\",salt1)\n",
    "# print(sender_key.pubkey)"
   ]
  },
  {
   "cell_type": "code",
   "execution_count": 27,
   "metadata": {},
   "outputs": [],
   "source": [
    "#Receiver Side\n",
    "salt2=get_salt()\n",
    "receiver_key = key_generation('receiver',\"SecretPassphrase2\",salt2)\n",
    "# print(receiver_key.pubkey)"
   ]
  },
  {
   "cell_type": "code",
   "execution_count": 28,
   "metadata": {},
   "outputs": [],
   "source": [
    "sender_sec_str = str(sender_key) # sec_str is key from local machine\n",
    "sender_pub_str = str(sender_key.pubkey) # pub_str is key from DB"
   ]
  },
  {
   "cell_type": "code",
   "execution_count": 29,
   "metadata": {},
   "outputs": [],
   "source": [
    "receiver_sec_str = str(receiver_key) # sec_str is key from local machine\n",
    "receiver_pub_str = str(receiver_key.pubkey) # pub_str is key from DB"
   ]
  },
  {
   "cell_type": "code",
   "execution_count": 30,
   "metadata": {},
   "outputs": [
    {
     "name": "stdout",
     "output_type": "stream",
     "text": [
      "<class 'pgpy.pgp.PGPMessage'>\n"
     ]
    }
   ],
   "source": [
    "#Sender Side\n",
    "enc = encryption(receiver_pub_str,\"This is Time Pass Message!\")\n",
    "# print(enc)\n",
    "print(type(enc))\n",
    "# print(\"encrypted? \" + str(enc.is_encrypted))\n",
    "# print(\"Signed? \" + str(enc.is_signed))"
   ]
  },
  {
   "cell_type": "code",
   "execution_count": null,
   "metadata": {},
   "outputs": [],
   "source": []
  },
  {
   "cell_type": "code",
   "execution_count": 31,
   "metadata": {},
   "outputs": [
    {
     "name": "stdout",
     "output_type": "stream",
     "text": [
      "-----BEGIN PGP SIGNATURE-----\n",
      "\n",
      "wsBcBAABCAAGBQJepWcnAAoJEOs2pg/lu1Ex4EAH/3HZ1fgUoGixu4VaZXAti3Nl\n",
      "TxlAta2YEJ0PagocDoU0jR2hRYBNMsnySlZzj0Nt7euBNiEcoDmg4/AFmfPnlXm6\n",
      "u05/pLYDtYFMz3mQEp50LVke6eZNIdv6QMg9TF12YtQBDBMj+5jQToUHSplfLYEX\n",
      "Do+k8S/Wl/MqpfuJb4I8vs10rnWaulYxmEHxRkwzPYIlKyGdCCVBfOdnJtZKpnBH\n",
      "ZpGzyw/WbktZaI4Kv5NQX6e7PJU1T0GGr6LgVDrJkXtj4TGCJvYXjrZEua3LAfPz\n",
      "hjzo5soTD30Xoz81cDQOsgpl5dGGvGPfmmAeldQVkMrkrFuGFg/lluo/E68oU1g=\n",
      "=Ke91\n",
      "-----END PGP SIGNATURE-----\n",
      "\n",
      "<class 'pgpy.pgp.PGPSignature'>\n"
     ]
    }
   ],
   "source": [
    "#Sender Side\n",
    "signature = sign(sender_sec_str,str(enc),\"SecretPassphrase1\",salt1)\n",
    "print(signature)\n",
    "print(type(signature))"
   ]
  },
  {
   "cell_type": "code",
   "execution_count": 32,
   "metadata": {},
   "outputs": [
    {
     "name": "stdout",
     "output_type": "stream",
     "text": [
      "-----BEGIN PGP MESSAGE-----\n",
      "\n",
      "wcBMA9PPvP2FNdMAAQgAkA2S3pQ2Z1kGY2McM5IFAatQ/RcQRimK/OtSkpnrToJ9\n",
      "XXYrO+iHRixrd4wcoVg4lH+Lwf++I5E0xGA/UuXDrRAsPc0y8YqIGA/lrDkPb+c/\n",
      "+01eBVTwq/SyuizKMKSrfocGHVDi4J3wUTEohr7ezJTHqc7ZEHuMX0UPHD89OX7f\n",
      "g6XvSxVg3zIUQWWPcn4SQxudYm2ygazUQkqEY0aHGEHXrOBon+RiI+WzNAkhkgVt\n",
      "3MEzs86HdPuU3Tu6ug2sjzAOb0cG85RNyBlvWUCpUIbuwUgyndZB4zT9lP0OHQ9n\n",
      "Ka0IZDIkdV/IIxOl4rZG1LZKwtXhXiD3HG4gokpgcNJOAQhAcTyDvmG7gjqPNnNN\n",
      "Y4JcxRLcfFWyuc6czBqSzFWOmwFv+rO7XUK5CZTAv0dg5vNqS8k0D4/dorxXfHBa\n",
      "5K7FiQ16MNcDsOT0U6mk\n",
      "=VLar\n",
      "-----END PGP MESSAGE-----\n",
      "-----BEGIN PGP SIGNATURE-----\n",
      "\n",
      "wsBcBAABCAAGBQJepWcnAAoJEOs2pg/lu1Ex4EAH/3HZ1fgUoGixu4VaZXAti3Nl\n",
      "TxlAta2YEJ0PagocDoU0jR2hRYBNMsnySlZzj0Nt7euBNiEcoDmg4/AFmfPnlXm6\n",
      "u05/pLYDtYFMz3mQEp50LVke6eZNIdv6QMg9TF12YtQBDBMj+5jQToUHSplfLYEX\n",
      "Do+k8S/Wl/MqpfuJb4I8vs10rnWaulYxmEHxRkwzPYIlKyGdCCVBfOdnJtZKpnBH\n",
      "ZpGzyw/WbktZaI4Kv5NQX6e7PJU1T0GGr6LgVDrJkXtj4TGCJvYXjrZEua3LAfPz\n",
      "hjzo5soTD30Xoz81cDQOsgpl5dGGvGPfmmAeldQVkMrkrFuGFg/lluo/E68oU1g=\n",
      "=Ke91\n",
      "-----END PGP SIGNATURE-----\n",
      "\n"
     ]
    }
   ],
   "source": [
    "#sender side\n",
    "combined_msg = combine(enc,signature)\n",
    "print(combined_msg)"
   ]
  },
  {
   "cell_type": "code",
   "execution_count": null,
   "metadata": {},
   "outputs": [],
   "source": []
  },
  {
   "cell_type": "code",
   "execution_count": null,
   "metadata": {},
   "outputs": [],
   "source": []
  },
  {
   "cell_type": "code",
   "execution_count": 33,
   "metadata": {},
   "outputs": [],
   "source": [
    "#Receiver side\n",
    "extracted_msg,extracted_sign = separate_enc_sign(combined_msg)\n",
    "# print(extracted_msg)"
   ]
  },
  {
   "cell_type": "code",
   "execution_count": 34,
   "metadata": {},
   "outputs": [],
   "source": [
    "# print(extracted_sign)"
   ]
  },
  {
   "cell_type": "code",
   "execution_count": null,
   "metadata": {},
   "outputs": [],
   "source": []
  },
  {
   "cell_type": "code",
   "execution_count": 35,
   "metadata": {},
   "outputs": [
    {
     "name": "stdout",
     "output_type": "stream",
     "text": [
      "True\n"
     ]
    }
   ],
   "source": [
    "#Receiver Side\n",
    "print(verify(sender_pub_str,str(extracted_msg),str(extracted_sign)))"
   ]
  },
  {
   "cell_type": "code",
   "execution_count": 36,
   "metadata": {},
   "outputs": [
    {
     "name": "stdout",
     "output_type": "stream",
     "text": [
      "This is Time Pass Message!\n"
     ]
    }
   ],
   "source": [
    "#Receiver Side\n",
    "print(decryption(receiver_sec_str,extracted_msg,\"SecretPassphrase2\",salt2))"
   ]
  },
  {
   "cell_type": "code",
   "execution_count": null,
   "metadata": {},
   "outputs": [],
   "source": []
  },
  {
   "cell_type": "code",
   "execution_count": null,
   "metadata": {},
   "outputs": [],
   "source": []
  },
  {
   "cell_type": "code",
   "execution_count": null,
   "metadata": {},
   "outputs": [],
   "source": []
  }
 ],
 "metadata": {
  "kernelspec": {
   "display_name": "Python 3",
   "language": "python",
   "name": "python3"
  },
  "language_info": {
   "codemirror_mode": {
    "name": "ipython",
    "version": 3
   },
   "file_extension": ".py",
   "mimetype": "text/x-python",
   "name": "python",
   "nbconvert_exporter": "python",
   "pygments_lexer": "ipython3",
   "version": "3.7.6"
  }
 },
 "nbformat": 4,
 "nbformat_minor": 4
}
