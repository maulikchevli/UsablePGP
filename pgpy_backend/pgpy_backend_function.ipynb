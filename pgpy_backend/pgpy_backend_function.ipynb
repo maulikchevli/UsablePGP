{
 "cells": [
  {
   "cell_type": "code",
   "execution_count": 73,
   "metadata": {},
   "outputs": [],
   "source": [
    "from pgpy.constants import PubKeyAlgorithm, KeyFlags, HashAlgorithm, SymmetricKeyAlgorithm, CompressionAlgorithm\n",
    "import pgpy\n",
    "import os\n",
    "import glob"
   ]
  },
  {
   "cell_type": "code",
   "execution_count": 22,
   "metadata": {},
   "outputs": [],
   "source": [
    "def key_generation(user_name):\n",
    "    key = pgpy.PGPKey.new(PubKeyAlgorithm.RSAEncryptOrSign, 2048)\n",
    "    uid = pgpy.PGPUID.new(user_name)\n",
    "    # print(uid)\n",
    "\n",
    "    key.add_uid(uid, usage={KeyFlags.Sign, KeyFlags.EncryptCommunications, KeyFlags.EncryptStorage},\n",
    "            hashes=[HashAlgorithm.SHA256, HashAlgorithm.SHA384, HashAlgorithm.SHA512, HashAlgorithm.SHA224],\n",
    "            ciphers=[SymmetricKeyAlgorithm.AES256, SymmetricKeyAlgorithm.AES192, SymmetricKeyAlgorithm.AES128],\n",
    "            compression=[CompressionAlgorithm.ZLIB, CompressionAlgorithm.BZ2, CompressionAlgorithm.ZIP, CompressionAlgorithm.Uncompressed])\n",
    "    return key\n",
    "    # print(key)"
   ]
  },
  {
   "cell_type": "code",
   "execution_count": 42,
   "metadata": {},
   "outputs": [],
   "source": [
    "# message is in string given by User\n",
    "# pub_key is fetched from Database i.e Receivers public Key\n",
    "def encryption(pub_key,message):\n",
    "    pub_key_enc_pgpy, _ = pgpy.PGPKey.from_blob(pub_key)\n",
    "    text_message = pgpy.PGPMessage.new(message)\n",
    "    encrypted_message = pub_key_enc_pgpy.encrypt(text_message)\n",
    "    return encrypted_message"
   ]
  },
  {
   "cell_type": "code",
   "execution_count": 104,
   "metadata": {},
   "outputs": [],
   "source": [
    "# sec_key is Private key stored on local device\n",
    "# enc_message is encrypted message\n",
    "def decryption(sec_key,enc_message):\n",
    "    temp_pgpy = pgpy.PGPKey()\n",
    "    temp_pgpy.parse(sec_key)\n",
    "    decrypted_message = temp_pgpy.decrypt(enc_message)\n",
    "    return decrypted_message.message"
   ]
  },
  {
   "cell_type": "code",
   "execution_count": 109,
   "metadata": {},
   "outputs": [],
   "source": [
    "# sec_key is key stored at local machine i.e private key\n",
    "# message is string\n",
    "def sign(sec_key,message):\n",
    "    temp_pgpy = pgpy.PGPKey()\n",
    "    temp_pgpy.parse(sec_key)\n",
    "    message = pgpy.PGPMessage.new(message)\n",
    "    message |= temp_pgpy.sign(message)\n",
    "    return message"
   ]
  },
  {
   "cell_type": "code",
   "execution_count": 88,
   "metadata": {},
   "outputs": [],
   "source": [
    "# pub_key is key fetched from DB\n",
    "# message is signed string message\n",
    "def verify(pub_key,message):\n",
    "    pub_key, _ = pgpy.PGPKey.from_blob(pub_key)\n",
    "    if pub_key.verify(message):\n",
    "        return True\n",
    "    else:\n",
    "        return False"
   ]
  },
  {
   "cell_type": "code",
   "execution_count": null,
   "metadata": {},
   "outputs": [],
   "source": []
  },
  {
   "cell_type": "code",
   "execution_count": null,
   "metadata": {},
   "outputs": [],
   "source": []
  },
  {
   "cell_type": "code",
   "execution_count": null,
   "metadata": {},
   "outputs": [],
   "source": []
  },
  {
   "cell_type": "code",
   "execution_count": null,
   "metadata": {},
   "outputs": [],
   "source": []
  },
  {
   "cell_type": "code",
   "execution_count": 110,
   "metadata": {},
   "outputs": [],
   "source": [
    "# INFO=======================================\n",
    "# store the OUTPUT of key_generation function on local machine as private key\n",
    "# Get public key using key.pubkey method and store it on DB"
   ]
  },
  {
   "cell_type": "code",
   "execution_count": 111,
   "metadata": {},
   "outputs": [
    {
     "name": "stdout",
     "output_type": "stream",
     "text": [
      "-----BEGIN PGP PUBLIC KEY BLOCK-----\n",
      "\n",
      "xsBNBF6i9QYBCAC3w+VbvI1hZN5FDaaLtO3QK+JdculTe95Dv3GfUB2K2NXf6uMK\n",
      "TgtYosOoCyc1St6ILuZIp9/U6QZ/Q/0FDY12bTkg3ejCdDhS4X6nk5EhrGPtYuOl\n",
      "zfAfpJ8j2oj6lvj8/3X4U5B+SgTEcWNHb6w+5Gt1ewgz12o/KWVLN8pl9WBCEHjA\n",
      "s488oUHQHvyHstAWFtVS45/Z+H3xJcQ1AVi5GO4hFJDOTPnypByBsBZgHHQld1lN\n",
      "6lO81Qa40W/XzbXLK/o1M/DqT0b4MQGWV+FU/FFp67yGJ0lN52rLeyBm4YPApaI9\n",
      "rUqzIaQs+/INtd4kCYpjm7EAfp3OBEI6fxBfABEBAAHNDXN1cm1hIGJob3BhbGnC\n",
      "wHMEEwEIAB0FAl6i9QYCGw4ECwkIBwUVCAkKCwUWAgMBAAIeAQAKCRCUaKEMthSt\n",
      "W/L4B/9YZHwPuOa40DB3n956U41oJbZrlZop3ZMQXAvPNDRBzSYXo/pyjDZsqqMc\n",
      "6UrPVoKp5XXlNQ/GAXgawjMmcLnfjVTME0dH9Zdn77dyWEHXY9ZjrOmWU3qZiO5a\n",
      "XMpFzkAIsiRRAatRVrOVr62FPISb0ko+WJuWh3XTE00Ho1aZo0iY2Nsihwj2X90H\n",
      "C5WWesf1+mCZ8LwOI4DFhItn2v/q8WQDwLGWNWIf+STKJFmufi9NLKTvM4hB0lOT\n",
      "qsshn9YtIrKekpx2E7I2aGtNSMu99gho8Vd0SlY6ZRgvlc24zAaIf9ocofteMwG4\n",
      "OgIAooteMyesV76v/PEcCxv9gtEA\n",
      "=5NiJ\n",
      "-----END PGP PUBLIC KEY BLOCK-----\n",
      "\n"
     ]
    }
   ],
   "source": [
    "# Only argument of function is user name\n",
    "temp = key_generation('surma bhopali')\n",
    "print(temp.pubkey)"
   ]
  },
  {
   "cell_type": "code",
   "execution_count": 112,
   "metadata": {},
   "outputs": [],
   "source": [
    "sec_str = str(temp) # sec_str is key from local machine\n",
    "pub_str = str(temp.pubkey) # pub_str is key from DB"
   ]
  },
  {
   "cell_type": "code",
   "execution_count": 113,
   "metadata": {},
   "outputs": [
    {
     "name": "stdout",
     "output_type": "stream",
     "text": [
      "-----BEGIN PGP MESSAGE-----\n",
      "\n",
      "wcBMA5RooQy2FK1bAQgAnRE5i4hTTDgaut8OXkB1BVn31DR0oFCiLfo8fzIyY74+\n",
      "ccEz/6hC2E8iNA8l8MNT8aJUB9Tooli/W79eyo4ImXXbAdqRPOPS9vQQ+jYMpW02\n",
      "vgn7gEoU7djRuwhR+w1JbgKLH3C1Sh0F3FabmnkddZbrgTfQyjEZj0OehVnxK7y+\n",
      "1/gYT8iIe2VxlnpGhmC55pkt/NGhTvMXDrmYatsZ2070dhetpDAVFeq5lNDcsU/s\n",
      "rsa8KOjR0SbDwObgSzipiVDiUkeJl/1THgtW2YyJkKpIDbo+iIvSl1uLGQTQBQZY\n",
      "VZyqWN6RPNT2c4Yjrg5QNBM+ui3Cmg8FY3xEwMMmiNJPAR4dxs43CStm3XDFvOjs\n",
      "+lJgfbH+HbzeixgQtR50HBjVA54hfGfrJsT9pacHPT8kkQIEbZBFaqJqEUQEpPmG\n",
      "KeKiKcNmmzM3zfNegGH/JA==\n",
      "=WEQf\n",
      "-----END PGP MESSAGE-----\n",
      "\n"
     ]
    }
   ],
   "source": [
    "enc = encryption(pub_str,\"This is Time Pass Message!\")\n",
    "print(enc)"
   ]
  },
  {
   "cell_type": "code",
   "execution_count": 114,
   "metadata": {},
   "outputs": [
    {
     "name": "stdout",
     "output_type": "stream",
     "text": [
      "This is Time Pass Message!\n"
     ]
    }
   ],
   "source": [
    "print(decryption(sec_str,enc))"
   ]
  },
  {
   "cell_type": "code",
   "execution_count": 116,
   "metadata": {},
   "outputs": [
    {
     "name": "stdout",
     "output_type": "stream",
     "text": [
      "-----BEGIN PGP MESSAGE-----\n",
      "\n",
      "yMCJAQFDAbz+xA0DAAgBlGihDLYUrVsAyxN1AF6i9RdGaXJzdCBUbyBTaWduwsBc\n",
      "BAABCAAGBQJeovUXAAoJEJRooQy2FK1btboH/3Ue0rjFhc8kAhuNqkvIWSz+RPCi\n",
      "KJ2W2CRyPNpG2w3EJr1JPjP57Gsb51R/mlo7wJCXOBoP3MXD1FfMo0SAeN3X2BeB\n",
      "pUMi5du7AeP5sPBMSSIBrqORJSKpFc0D2l70qLkOKh+3+7Mk9oiwCtrSKfyPu4qX\n",
      "HgTndBi+l/Ng5k2n89reifoq8Z2p8QXXB0HjfE71NV6xA76c4nHgxjMxAtsPbDje\n",
      "dfYPBNqiE9bRsLAdzVoyOcK0zdpCgASxMkwPKor+FWT5xxTnc65xScGfAt5aJe+L\n",
      "nXIIPqlYa43vm3+KBzgU8jFpv4+rm5ZKOSEMN4bgwtghqYkW/4cG+pliKJ8=\n",
      "=OsgD\n",
      "-----END PGP MESSAGE-----\n",
      "\n"
     ]
    }
   ],
   "source": [
    "signed_message = sign(sec_str,\"First To Sign\")\n",
    "print(signed_message)"
   ]
  },
  {
   "cell_type": "code",
   "execution_count": 117,
   "metadata": {},
   "outputs": [
    {
     "name": "stdout",
     "output_type": "stream",
     "text": [
      "True\n"
     ]
    }
   ],
   "source": [
    "print(verify(pub_str,signed_message))"
   ]
  }
 ],
 "metadata": {
  "kernelspec": {
   "display_name": "Python 3",
   "language": "python",
   "name": "python3"
  },
  "language_info": {
   "codemirror_mode": {
    "name": "ipython",
    "version": 3
   },
   "file_extension": ".py",
   "mimetype": "text/x-python",
   "name": "python",
   "nbconvert_exporter": "python",
   "pygments_lexer": "ipython3",
   "version": "3.7.6"
  }
 },
 "nbformat": 4,
 "nbformat_minor": 4
}
